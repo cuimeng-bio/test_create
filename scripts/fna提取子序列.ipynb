{
 "cells": [
  {
   "cell_type": "code",
   "execution_count": 5,
   "metadata": {},
   "outputs": [
    {
     "name": "stdout",
     "output_type": "stream",
     "text": [
      "Extracted subsequences have been saved to E:\\desktop\\大肠杆菌7个样本\\UST-1-35\\prophage_tail_expand_R2.fna\n"
     ]
    }
   ],
   "source": [
    "from Bio import SeqIO\n",
    "from Bio.Seq import Seq\n",
    "from Bio.SeqRecord import SeqRecord\n",
    "\n",
    "def extract_subsequences(fasta_file, positions, output_file):\n",
    "    \"\"\"\n",
    "    从FASTA文件中提取子序列并保存到新的FASTA文件中。\n",
    "\n",
    "    参数:\n",
    "    fasta_file (str): FASTA文件的路径。\n",
    "    positions (list of tuple): 每个元组包含两个元素 (start, end)，表示要提取的子序列的起始和结束位置（基于1）。\n",
    "    output_file (str): 输出FASTA文件的路径。\n",
    "    \"\"\"\n",
    "    subsequences = []\n",
    "    for record in SeqIO.parse(fasta_file, \"fasta\"):\n",
    "        seq_id = record.id\n",
    "        sequence = str(record.seq)\n",
    "        for start, end in positions:\n",
    "            subseq = sequence[start-1:end]\n",
    "            subseq_id = f\"region_{start}:{end}\"\n",
    "            subseq_record = SeqRecord(Seq(subseq), id=subseq_id, description=\"\")\n",
    "            subsequences.append(subseq_record)\n",
    "\n",
    "    SeqIO.write(subsequences, output_file, \"fasta\")\n",
    "\n",
    "# 示例：从fasta_file中提取特定位置的子序列并保存到output_file\n",
    "prefix = \"UST-1-35\"\n",
    "fasta_file = f\"E:\\\\desktop\\\\大肠杆菌7个样本\\\\{prefix}\\\\{prefix}_1.fna\"\n",
    "positions = [(4867865, 4885648)]  # 示例位置（基于1）\n",
    "output_file = f\"E:\\\\desktop\\\\大肠杆菌7个样本\\\\{prefix}\\\\prophage_tail_expand_R2.fna\"\n",
    "\n",
    "extract_subsequences(fasta_file, positions, output_file)\n",
    "print(f\"Extracted subsequences have been saved to {output_file}\")\n",
    "\n",
    "\n"
   ]
  }
 ],
 "metadata": {
  "kernelspec": {
   "display_name": "Python 3.9.18 ('pytorch-1.10-gpu')",
   "language": "python",
   "name": "python3"
  },
  "language_info": {
   "codemirror_mode": {
    "name": "ipython",
    "version": 3
   },
   "file_extension": ".py",
   "mimetype": "text/x-python",
   "name": "python",
   "nbconvert_exporter": "python",
   "pygments_lexer": "ipython3",
   "version": "3.9.18"
  },
  "orig_nbformat": 4,
  "vscode": {
   "interpreter": {
    "hash": "62c08aaa51b65c3e1a0158a8bdb90c9782737638541bea9fd3c730fe47b51e75"
   }
  }
 },
 "nbformat": 4,
 "nbformat_minor": 2
}
